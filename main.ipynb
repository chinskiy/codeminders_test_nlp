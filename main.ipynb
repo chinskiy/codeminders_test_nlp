{
 "cells": [
  {
   "cell_type": "code",
   "execution_count": 1,
   "metadata": {
    "collapsed": false
   },
   "outputs": [],
   "source": [
    "import glob\n",
    "import pandas as pd\n",
    "import datetime\n",
    "\n",
    "import abstract_reader\n",
    "\n",
    "\n",
    "abstractlist = glob.glob(\"abstracts/*\")\n",
    "\n",
    "xml_elements = ['datecreated', 'title', 'articletitle', 'abstracttext', 'language',  'country', 'publicationstatus']"
   ]
  },
  {
   "cell_type": "code",
   "execution_count": 2,
   "metadata": {
    "collapsed": false
   },
   "outputs": [],
   "source": [
    "df = abstract_reader.create_df(abstractlist, xml_elements)"
   ]
  },
  {
   "cell_type": "code",
   "execution_count": 3,
   "metadata": {
    "collapsed": false
   },
   "outputs": [
    {
     "data": {
      "text/plain": [
       "(2653, 7)"
      ]
     },
     "execution_count": 3,
     "metadata": {},
     "output_type": "execute_result"
    }
   ],
   "source": [
    "df.shape"
   ]
  },
  {
   "cell_type": "code",
   "execution_count": 4,
   "metadata": {
    "collapsed": false
   },
   "outputs": [
    {
     "data": {
      "text/html": [
       "<div>\n",
       "<table border=\"1\" class=\"dataframe\">\n",
       "  <thead>\n",
       "    <tr style=\"text-align: right;\">\n",
       "      <th></th>\n",
       "      <th>datecreated</th>\n",
       "      <th>title</th>\n",
       "      <th>articletitle</th>\n",
       "      <th>abstracttext</th>\n",
       "      <th>language</th>\n",
       "      <th>country</th>\n",
       "      <th>publicationstatus</th>\n",
       "    </tr>\n",
       "  </thead>\n",
       "  <tbody>\n",
       "    <tr>\n",
       "      <th>0</th>\n",
       "      <td>2001-03-06</td>\n",
       "      <td>diabetes care</td>\n",
       "      <td>pioglitazone hydrochloride monotherapy improve...</td>\n",
       "      <td>evaluate efficacy safety four doses pioglitazo...</td>\n",
       "      <td>eng</td>\n",
       "      <td>united states</td>\n",
       "      <td>ppublish</td>\n",
       "    </tr>\n",
       "    <tr>\n",
       "      <th>1</th>\n",
       "      <td>1996-05-28</td>\n",
       "      <td>archives of general psychiatry</td>\n",
       "      <td>sixmonth followup naltrexone psychotherapy alc...</td>\n",
       "      <td>goal study examine persistence naltrexones eff...</td>\n",
       "      <td>eng</td>\n",
       "      <td>united states</td>\n",
       "      <td>ppublish</td>\n",
       "    </tr>\n",
       "    <tr>\n",
       "      <th>2</th>\n",
       "      <td>2003-10-27</td>\n",
       "      <td>diabetes care</td>\n",
       "      <td>treattotarget trial randomized addition glargi...</td>\n",
       "      <td>compare abilities associated hypoglycemia risk...</td>\n",
       "      <td>eng</td>\n",
       "      <td>united states</td>\n",
       "      <td>ppublish</td>\n",
       "    </tr>\n",
       "    <tr>\n",
       "      <th>3</th>\n",
       "      <td>2001-05-04</td>\n",
       "      <td>clinical pediatrics</td>\n",
       "      <td>followup throat cultures necessary rapid antig...</td>\n",
       "      <td>frequency obtaining falsenegative group strept...</td>\n",
       "      <td>eng</td>\n",
       "      <td>united states</td>\n",
       "      <td>ppublish</td>\n",
       "    </tr>\n",
       "    <tr>\n",
       "      <th>4</th>\n",
       "      <td>2006-11-08</td>\n",
       "      <td>acta obstetricia et gynecologica scandinavica</td>\n",
       "      <td>prevention postpartum hemorrhage uterotonic ag...</td>\n",
       "      <td>determine efficacy intravenous oxytocin admini...</td>\n",
       "      <td>eng</td>\n",
       "      <td>denmark</td>\n",
       "      <td>ppublish</td>\n",
       "    </tr>\n",
       "  </tbody>\n",
       "</table>\n",
       "</div>"
      ],
      "text/plain": [
       "  datecreated                                          title  \\\n",
       "0  2001-03-06                                  diabetes care   \n",
       "1  1996-05-28                 archives of general psychiatry   \n",
       "2  2003-10-27                                  diabetes care   \n",
       "3  2001-05-04                            clinical pediatrics   \n",
       "4  2006-11-08  acta obstetricia et gynecologica scandinavica   \n",
       "\n",
       "                                        articletitle  \\\n",
       "0  pioglitazone hydrochloride monotherapy improve...   \n",
       "1  sixmonth followup naltrexone psychotherapy alc...   \n",
       "2  treattotarget trial randomized addition glargi...   \n",
       "3  followup throat cultures necessary rapid antig...   \n",
       "4  prevention postpartum hemorrhage uterotonic ag...   \n",
       "\n",
       "                                        abstracttext language        country  \\\n",
       "0  evaluate efficacy safety four doses pioglitazo...      eng  united states   \n",
       "1  goal study examine persistence naltrexones eff...      eng  united states   \n",
       "2  compare abilities associated hypoglycemia risk...      eng  united states   \n",
       "3  frequency obtaining falsenegative group strept...      eng  united states   \n",
       "4  determine efficacy intravenous oxytocin admini...      eng        denmark   \n",
       "\n",
       "  publicationstatus  \n",
       "0          ppublish  \n",
       "1          ppublish  \n",
       "2          ppublish  \n",
       "3          ppublish  \n",
       "4          ppublish  "
      ]
     },
     "execution_count": 4,
     "metadata": {},
     "output_type": "execute_result"
    }
   ],
   "source": [
    "df[:5]"
   ]
  },
  {
   "cell_type": "code",
   "execution_count": 5,
   "metadata": {
    "collapsed": true
   },
   "outputs": [],
   "source": [
    "import matplotlib.pyplot as plt\n",
    "%matplotlib inline"
   ]
  },
  {
   "cell_type": "markdown",
   "metadata": {},
   "source": [
    "# Publications by counry"
   ]
  },
  {
   "cell_type": "code",
   "execution_count": 6,
   "metadata": {
    "collapsed": false
   },
   "outputs": [
    {
     "data": {
      "text/plain": [
       "<matplotlib.axes._subplots.AxesSubplot at 0x7f693bf8e350>"
      ]
     },
     "execution_count": 6,
     "metadata": {},
     "output_type": "execute_result"
    },
    {
     "data": {
      "image/png": "[encoded data removed]",
      "text/plain": [
       "<matplotlib.figure.Figure at 0x7f6933e19750>"
      ]
     },
     "metadata": {},
     "output_type": "display_data"
    }
   ],
   "source": [
    "df['country'].value_counts().plot(kind='barh', figsize=(15, 5))"
   ]
  },
  {
   "cell_type": "markdown",
   "metadata": {},
   "source": [
    "# Publication by language"
   ]
  },
  {
   "cell_type": "code",
   "execution_count": 7,
   "metadata": {
    "collapsed": false
   },
   "outputs": [
    {
     "data": {
      "text/plain": [
       "eng    2645\n",
       "spa       3\n",
       "dut       2\n",
       "chi       1\n",
       "fre       1\n",
       "dan       1\n",
       "Name: language, dtype: int64"
      ]
     },
     "execution_count": 7,
     "metadata": {},
     "output_type": "execute_result"
    }
   ],
   "source": [
    "df['language'].value_counts()"
   ]
  },
  {
   "cell_type": "markdown",
   "metadata": {},
   "source": [
    "# Publication by publication status"
   ]
  },
  {
   "cell_type": "code",
   "execution_count": 8,
   "metadata": {
    "collapsed": false
   },
   "outputs": [
    {
     "data": {
      "text/plain": [
       "ppublish    2592\n",
       "epublish      61\n",
       "Name: publicationstatus, dtype: int64"
      ]
     },
     "execution_count": 8,
     "metadata": {},
     "output_type": "execute_result"
    }
   ],
   "source": [
    "df['publicationstatus'].value_counts()"
   ]
  },
  {
   "cell_type": "markdown",
   "metadata": {},
   "source": [
    "# Publication by year of publication"
   ]
  },
  {
   "cell_type": "code",
   "execution_count": 9,
   "metadata": {
    "collapsed": false
   },
   "outputs": [
    {
     "data": {
      "text/plain": [
       "<matplotlib.axes._subplots.AxesSubplot at 0x7f6933bfd350>"
      ]
     },
     "execution_count": 9,
     "metadata": {},
     "output_type": "execute_result"
    },
    {
     "data": {
      "image/png": "[encoded data removed]",
      "text/plain": [
       "<matplotlib.figure.Figure at 0x7f69740dff90>"
      ]
     },
     "metadata": {},
     "output_type": "display_data"
    }
   ],
   "source": [
    "dates = pd.to_datetime(df.datecreated[df.datecreated != 'not available'])\n",
    "dates.dt.year.value_counts(sort=False).sort_index().plot(kind='bar', figsize=(15, 5))"
   ]
  },
  {
   "cell_type": "markdown",
   "metadata": {},
   "source": [
    "# Publication by number of words"
   ]
  },
  {
   "cell_type": "code",
   "execution_count": 10,
   "metadata": {
    "collapsed": false
   },
   "outputs": [
    {
     "data": {
      "text/plain": [
       "<matplotlib.axes._subplots.AxesSubplot at 0x7f6933c5fe90>"
      ]
     },
     "execution_count": 10,
     "metadata": {},
     "output_type": "execute_result"
    },
    {
     "data": {
      "image/png": "[encoded data removed]",
      "text/plain": [
       "<matplotlib.figure.Figure at 0x7f6933af1850>"
      ]
     },
     "metadata": {},
     "output_type": "display_data"
    }
   ],
   "source": [
    "splitted_text = df.abstracttext.map(lambda x: len(x.split(' ')))\n",
    "pd.value_counts(pd.cut(splitted_text, bins = range(0, 300, 10))).sort_index().plot(kind='bar', figsize=(15, 5))"
   ]
  },
  {
   "cell_type": "markdown",
   "metadata": {},
   "source": [
    "# Top 20 used words in English publications"
   ]
  },
  {
   "cell_type": "code",
   "execution_count": 11,
   "metadata": {
    "collapsed": false
   },
   "outputs": [],
   "source": [
    "from collections import Counter\n",
    "import operator\n",
    "\n",
    "listtext = [i.split(' ') for i in df.abstracttext[df.language == 'eng'].tolist()]\n",
    "listtext = [item for sublist in listtext for item in sublist]\n",
    "\n",
    "count_words = Counter(listtext)"
   ]
  },
  {
   "cell_type": "code",
   "execution_count": 12,
   "metadata": {
    "collapsed": false
   },
   "outputs": [
    {
     "name": "stdout",
     "output_type": "stream",
     "text": [
      "5775    patients\n",
      "3304    treatment\n",
      "2448    group\n",
      "2397    p\n",
      "2079    study\n",
      "2040    risk\n",
      "1771    women\n",
      "1713    trials\n",
      "1619    studies\n",
      "1515    placebo\n",
      "1448    years\n",
      "1436    ci\n",
      "1379    therapy\n",
      "1364    compared\n",
      "1332    clinical\n",
      "1216    data\n",
      "1198    disease\n",
      "1159    significant\n",
      "1150    children\n",
      "1054    two\n",
      "1035    months\n",
      "1002    age\n",
      "991     mean\n",
      "991     use\n",
      "978     effects\n"
     ]
    }
   ],
   "source": [
    "count_words_sorted = sorted(count_words.iteritems(), key=operator.itemgetter(1), reverse=True)\n",
    "for _ in range(25):\n",
    "    print '{1:<7} {0}'.format(count_words_sorted[_][0], count_words_sorted[_][1])"
   ]
  },
  {
   "cell_type": "code",
   "execution_count": null,
   "metadata": {
    "collapsed": true
   },
   "outputs": [],
   "source": []
  }
 ],
 "metadata": {
  "kernelspec": {
   "display_name": "Python 2",
   "language": "python",
   "name": "python2"
  },
  "language_info": {
   "codemirror_mode": {
    "name": "ipython",
    "version": 2
   },
   "file_extension": ".py",
   "mimetype": "text/x-python",
   "name": "python",
   "nbconvert_exporter": "python",
   "pygments_lexer": "ipython2",
   "version": "2.7.6"
  }
 },
 "nbformat": 4,
 "nbformat_minor": 0
}
